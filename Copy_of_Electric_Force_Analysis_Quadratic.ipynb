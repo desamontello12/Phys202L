{
  "cells": [
    {
      "cell_type": "markdown",
      "metadata": {
        "id": "view-in-github",
        "colab_type": "text"
      },
      "source": [
        "<a href=\"https://colab.research.google.com/github/desamontello12/Phys202L/blob/main/Copy_of_Electric_Force_Analysis_Quadratic.ipynb\" target=\"_parent\"><img src=\"https://colab.research.google.com/assets/colab-badge.svg\" alt=\"Open In Colab\"/></a>"
      ]
    },
    {
      "cell_type": "markdown",
      "metadata": {
        "id": "g1P9W2yIOBRD"
      },
      "source": [
        "# Lab 3:  Electric Force\n",
        "Eli Lutz, Emily Adams, Anna Quach, and Pawel Skurzak"
      ]
    },
    {
      "cell_type": "code",
      "execution_count": null,
      "metadata": {
        "id": "-SFj0_kpOBRH"
      },
      "outputs": [],
      "source": [
        "import numpy as np\n",
        "import pandas as pd\n",
        "import matplotlib.pyplot as plt\n",
        "import scipy.stats as stats\n",
        "\n",
        "# The following lines make plots in dark mode look reasonable.  If you are not using dark\n",
        "# mode you don't need them, but you can also just leave them here and it should work fine.\n",
        "\n",
        "dark_mode = False\n",
        "# plotting choices for dark-mode\n",
        "if (dark_mode):\n",
        "    from jupyterthemes import jtplot\n",
        "    jtplot.style(theme='monokai', context='notebook', ticks=True, grid=False)\n",
        "    linecolor = 'w'\n",
        "else:\n",
        "    linecolor = 'k'"
      ]
    },
    {
      "cell_type": "markdown",
      "metadata": {
        "id": "XvDv_YgmOBRI"
      },
      "source": [
        "# Determining the Path of Electrons"
      ]
    },
    {
      "cell_type": "code",
      "execution_count": null,
      "metadata": {
        "colab": {
          "base_uri": "https://localhost:8080/"
        },
        "id": "gKXGwNEfOBRJ",
        "outputId": "6c1bb310-e9ce-4322-c8d4-cbfd1d918e38"
      },
      "outputs": [
        {
          "output_type": "stream",
          "name": "stdout",
          "text": [
            "Accelerating voltage = 4.5 kV:\n",
            " x_cm  dx_cm  y_cm  dy_cm\n",
            "  2.0   0.02  0.00   0.02\n",
            "  3.0   0.02  0.10   0.02\n",
            "  4.0   0.02  0.20   0.02\n",
            "  5.0   0.02  0.40   0.02\n",
            "  6.0   0.02  0.60   0.02\n",
            "  7.0   0.02  0.90   0.02\n",
            "  8.0   0.02  1.24   0.02\n",
            "  9.0   0.02  1.60   0.02\n",
            " 10.0   0.02  2.60   0.02\n",
            "\n",
            "Accelerating voltage = 3.5 kV:\n",
            " x_cm  dx_cm  y_cm  dy_cm\n",
            "  2.0   0.02  0.00   0.02\n",
            "  3.0   0.02  0.14   0.02\n",
            "  4.0   0.02  0.30   0.02\n",
            "  5.0   0.02  0.51   0.02\n",
            "  6.0   0.02  0.81   0.02\n",
            "  7.0   0.02  1.20   0.02\n",
            "  8.0   0.02  1.60   0.02\n",
            "  9.0   0.02  2.02   0.02\n",
            " 10.0   0.02  2.60   0.02\n",
            "\n",
            "Accelerating voltage = 2.5 kV:\n",
            " x_cm  dx_cm  y_cm  dy_cm\n",
            "  2.0   0.02   0.0   0.02\n",
            "  2.5   0.02   0.1   0.02\n",
            "  3.0   0.02   0.2   0.02\n",
            "  3.5   0.02   0.3   0.02\n",
            "  4.0   0.02   0.4   0.02\n",
            "  4.5   0.02   0.6   0.02\n",
            "  5.0   0.02   0.8   0.02\n",
            "  5.5   0.02   1.0   0.02\n",
            "  6.0   0.02   1.2   0.02\n"
          ]
        }
      ],
      "source": [
        "# Create a Pandas DataFrame with data for part 1\n",
        "\n",
        "# The data elements are [x_cm, dx_cm, y_cm, dy_cm]\n",
        "\n",
        "data1 = [[2.00,0.02,0.00,0.02], [3.00,0.02,0.10,0.02], [4.00,0.02,0.20,0.02],[5.00, 0.02, 0.40, 0.02], [6.00,0.02,0.60,0.02], \n",
        "         [7.00, 0.02, 0.90, 0.02], [8.00,0.02,1.24,0.02], [9.00, 0.02, 1.60, 0.02], [10.00,0.02,2.60,0.02]]\n",
        "# create dataframe\n",
        "df1 = pd.DataFrame(data1, columns = ['x_cm', 'dx_cm','y_cm','dy_cm'])\n",
        "\n",
        "print('Accelerating voltage = 4.5 kV:')\n",
        "print(df1.to_string(index=False))\n",
        "\n",
        "data2 = [[2.00,0.02,0.00,0.02], [3.00, 0.02, 0.14, 0.02], [4.00,0.02,0.30,0.02], [5.00, 0.02, 0.51, 0.02], [6.00,0.02,0.81,0.02], \n",
        "         [7.00, 0.02, 1.20, 0.02], [8.00,0.02,1.60,0.02], [9.00,0.02,2.02,0.02], [10.00, 0.02, 2.60, 0.02]]\n",
        "# create dataframe\n",
        "df2 = pd.DataFrame(data2, columns = ['x_cm', 'dx_cm','y_cm','dy_cm'])\n",
        "\n",
        "print()\n",
        "print('Accelerating voltage = 3.5 kV:')\n",
        "print(df2.to_string(index=False))\n",
        "\n",
        "data3 = [[2.00,0.02,0.00,0.02], [2.50, 0.02, .10, 0.02], [3.00,0.02,0.20,0.02], [3.50,0.02, 0.3, 0.02], [4.00,0.02,0.40,0.02], \n",
        "         [4.50,0.02,0.60,0.02], [5.00,0.02,0.80,0.02], [5.50, 0.02, 1.00, 0.02], [6.00, 0.02, 1.20, 0.02]]\n",
        "# create dataframe\n",
        "df3 = pd.DataFrame(data3, columns = ['x_cm', 'dx_cm','y_cm','dy_cm'])\n",
        "\n",
        "print()\n",
        "print('Accelerating voltage = 2.5 kV:')\n",
        "print(df3.to_string(index=False))"
      ]
    },
    {
      "cell_type": "code",
      "execution_count": null,
      "metadata": {
        "colab": {
          "base_uri": "https://localhost:8080/"
        },
        "id": "7qfaLFHcOBRL",
        "outputId": "9f5ece44-9522-45bd-deeb-6bdaa02a0454"
      },
      "outputs": [
        {
          "output_type": "stream",
          "name": "stdout",
          "text": [
            "Accelerating voltage = 4.5 kV:\n",
            " x_cm  dx_cm  y_cm  dy_cm    x     dx      y     dy\n",
            "  2.0   0.02  0.00   0.02 0.02 0.0002 0.0000 0.0002\n",
            "  3.0   0.02  0.10   0.02 0.03 0.0002 0.0010 0.0002\n",
            "  4.0   0.02  0.20   0.02 0.04 0.0002 0.0020 0.0002\n",
            "  5.0   0.02  0.40   0.02 0.05 0.0002 0.0040 0.0002\n",
            "  6.0   0.02  0.60   0.02 0.06 0.0002 0.0060 0.0002\n",
            "  7.0   0.02  0.90   0.02 0.07 0.0002 0.0090 0.0002\n",
            "  8.0   0.02  1.24   0.02 0.08 0.0002 0.0124 0.0002\n",
            "  9.0   0.02  1.60   0.02 0.09 0.0002 0.0160 0.0002\n",
            " 10.0   0.02  2.60   0.02 0.10 0.0002 0.0260 0.0002\n",
            "\n",
            "Accelerating voltage = 3.5 kV:\n",
            " x_cm  dx_cm  y_cm  dy_cm    x     dx      y     dy\n",
            "  2.0   0.02  0.00   0.02 0.02 0.0002 0.0000 0.0002\n",
            "  3.0   0.02  0.14   0.02 0.03 0.0002 0.0014 0.0002\n",
            "  4.0   0.02  0.30   0.02 0.04 0.0002 0.0030 0.0002\n",
            "  5.0   0.02  0.51   0.02 0.05 0.0002 0.0051 0.0002\n",
            "  6.0   0.02  0.81   0.02 0.06 0.0002 0.0081 0.0002\n",
            "  7.0   0.02  1.20   0.02 0.07 0.0002 0.0120 0.0002\n",
            "  8.0   0.02  1.60   0.02 0.08 0.0002 0.0160 0.0002\n",
            "  9.0   0.02  2.02   0.02 0.09 0.0002 0.0202 0.0002\n",
            " 10.0   0.02  2.60   0.02 0.10 0.0002 0.0260 0.0002\n",
            "\n",
            "Accelerating voltage = 2.5 kV:\n",
            " x_cm  dx_cm  y_cm  dy_cm     x     dx     y     dy\n",
            "  2.0   0.02   0.0   0.02 0.020 0.0002 0.000 0.0002\n",
            "  2.5   0.02   0.1   0.02 0.025 0.0002 0.001 0.0002\n",
            "  3.0   0.02   0.2   0.02 0.030 0.0002 0.002 0.0002\n",
            "  3.5   0.02   0.3   0.02 0.035 0.0002 0.003 0.0002\n",
            "  4.0   0.02   0.4   0.02 0.040 0.0002 0.004 0.0002\n",
            "  4.5   0.02   0.6   0.02 0.045 0.0002 0.006 0.0002\n",
            "  5.0   0.02   0.8   0.02 0.050 0.0002 0.008 0.0002\n",
            "  5.5   0.02   1.0   0.02 0.055 0.0002 0.010 0.0002\n",
            "  6.0   0.02   1.2   0.02 0.060 0.0002 0.012 0.0002\n"
          ]
        }
      ],
      "source": [
        "df1['x'] = 0.01*(df1['x_cm'])\n",
        "df1['dx'] = 0.01*df1['dx_cm']\n",
        "df1['y'] = 0.01*df1['y_cm']\n",
        "df1['dy'] = 0.01*df1['dy_cm']\n",
        "\n",
        "print('Accelerating voltage = 4.5 kV:')\n",
        "print(df1.to_string(index=False))\n",
        "\n",
        "df2['x'] = 0.01*(df2['x_cm'])\n",
        "df2['dx'] = 0.01*df2['dx_cm']\n",
        "df2['y'] = 0.01*df2['y_cm']\n",
        "df2['dy'] = 0.01*df2['dy_cm']\n",
        "\n",
        "print()\n",
        "print('Accelerating voltage = 3.5 kV:')\n",
        "print(df2.to_string(index=False))\n",
        "\n",
        "df3['x'] = 0.01*(df3['x_cm'])\n",
        "df3['dx'] = 0.01*df3['dx_cm']\n",
        "df3['y'] = 0.01*df3['y_cm']\n",
        "df3['dy'] = 0.01*df3['dy_cm']\n",
        "\n",
        "print()\n",
        "print('Accelerating voltage = 2.5 kV:')\n",
        "print(df3.to_string(index=False))"
      ]
    },
    {
      "cell_type": "code",
      "execution_count": null,
      "metadata": {
        "colab": {
          "base_uri": "https://localhost:8080/",
          "height": 635
        },
        "id": "xcCp6ctpOBRM",
        "outputId": "6f0160fe-0a8e-4e5d-a66b-ab06923eb9bb"
      },
      "outputs": [
        {
          "output_type": "stream",
          "name": "stdout",
          "text": [
            "Beta: [ 4.15984929e+00 -2.08095525e-01  3.22674222e-03]\n",
            "Beta Std Error: [0.71503587 0.0860508  0.00228107]\n",
            "Beta Covariance: [[ 1.43638408e-02 -1.69623687e-03  4.07989280e-05]\n",
            " [-1.69623687e-03  2.08029391e-04 -5.26020647e-06]\n",
            " [ 4.07989280e-05 -5.26020647e-06  1.46181830e-07]]\n",
            "Residual Variance: 35.594678965868155\n",
            "Inverse Condition #: 0.0026135555656384593\n",
            "Reason(s) for Halting:\n",
            "  Sum of squares convergence\n",
            "\n",
            "Final Result: Y = (4.1598 +/- 0.7150)X^2 + (-0.2081 +/- 0.0861)X + (0.003227 +/- 0.002281)\n"
          ]
        },
        {
          "output_type": "display_data",
          "data": {
            "image/png": "[encoded data removed]",
            "text/plain": [
              "<Figure size 640x480 with 1 Axes>"
            ]
          },
          "metadata": {
            "needs_background": "light"
          }
        }
      ],
      "source": [
        "xi = df1['x']\n",
        "yi = df1['y']\n",
        "sigmaxi = df1['dx']\n",
        "sigmayi = df1['dy']\n",
        "\n",
        "##############################\n",
        "\n",
        "from scipy.odr import *\n",
        "\n",
        "def fitfunction(B, x):\n",
        "    '''Non-Linear function y = a*(x-c)^b'''\n",
        "    # B is a vector of the parameters.\n",
        "    # x is an array of the current x values.\n",
        "    # x is in the same format as the x passed to Data or RealData.\n",
        "    #\n",
        "    # Return an array in the same format as y passed to Data or RealData\n",
        "    return B[0]*x**2 + B[1]*x + B[2]\n",
        "\n",
        "linear = Model(fitfunction) # create a Model object based on the fitfuncion we have defined\n",
        "mydata = RealData(xi, yi, sx=sigmaxi, sy=sigmayi) # create a data object based on our data, include errors.\n",
        "myodr = ODR(mydata, linear, beta0=[2.55, -0.05, 0.0002]) # create a fitting object, based on the data, fit Model, and an intial set of parameters.\n",
        "myoutput = myodr.run()  # run the fitting process to get optimized parameters!\n",
        "\n",
        "myoutput.pprint() # print out the result of the fit\n",
        "\n",
        "# Now assign the important fit results to some more convenient variables.\n",
        "\n",
        "popt = myoutput.beta # the vector of optimized parameters\n",
        "pcov = myoutput.cov_beta # the covariance matrix\n",
        "perr = myoutput.sd_beta # the vector of ERRORS in the optimized parameters\n",
        "\n",
        "# The following lines generate upper and lower 99% \"Confidence Bands\" on the fit, for visualization\n",
        "# purposes.\n",
        "\n",
        "ps = np.random.multivariate_normal(popt,pcov,10000)\n",
        "xl = np.linspace(xi[0],xi[len(xi)-1],100)\n",
        "ysample=np.asarray([fitfunction(pl,xl) for pl in ps])\n",
        "ysample = np.nan_to_num(ysample)\n",
        "\n",
        "lower = np.percentile(ysample,16.0,axis=0)\n",
        "upper = np.percentile(ysample,84.0,axis=0)\n",
        "middle = (lower+upper)/2.0\n",
        "\n",
        "print()\n",
        "print (\"Final Result: Y = (%0.4f +/- %0.4f)X^2 + (%0.4f +/- %0.4f)X + (%0.6f +/- %0.6f)\" % (popt[0],perr[0],popt[1],perr[1],popt[2],perr[2]))\n",
        "\n",
        "plt.figure(figsize=(8, 6), dpi=80)\n",
        "plt.errorbar(xi, yi, xerr=sigmaxi, yerr=sigmayi, fmt='o', capsize=2, capthick=1)\n",
        "\n",
        "plt.plot(xl,middle)\n",
        "plt.plot(xl,lower)\n",
        "plt.plot(xl,upper)\n",
        "\n",
        "#########################\n",
        "\n",
        "plt.xlabel('Horizonatal Distance (meters)')\n",
        "plt.ylabel('Vertical Distance (meters)')\n",
        "plt.title('Determining the Electron Path (Accelerating Voltage = 4.5 kV)')\n",
        "plt.show()"
      ]
    },
    {
      "cell_type": "markdown",
      "metadata": {
        "id": "UzMT75u1OBRO"
      },
      "source": [
        "## Analysis of Electron Path:   Accelerating Voltage = 4.5 kV\n",
        "\n",
        "First of all, we see that the fit is non-linear, as expected, and appears to be roughly quadratic.\n",
        "\n",
        "From the theory, we expect:\n",
        "\n",
        "$y = ax^2 + bx + c$\n",
        "\n",
        "where:\n",
        "\n",
        "$a = \\frac{V_p}{4 d_{eff} V_a} = C$\n",
        "\n",
        "$b = - 2 C x_i$\n",
        "\n",
        "$c = C x_i^2 + y_i$\n",
        "\n",
        "We see that the coefficient a = C is $(4.1598 \\pm 0.7150)$.\n",
        "\n",
        "The theory predicts that this coefficient should be equal to: $\\frac{V_p}{4 d_{eff} V_a}$.  Thus, we can calculate that:\n",
        "\n",
        "$d_{eff} = \\frac{V_p}{4 C V_a}$\n",
        "\n",
        "and \n",
        "\n",
        "$ \\delta(d_{eff}) = d_{eff} \\left( \\frac{\\delta(V_p)}{V_p} + \\frac{\\delta(V_a)}{V_a} + \\frac{\\delta(C)}{C} \\right) $"
      ]
    },
    {
      "cell_type": "code",
      "execution_count": null,
      "metadata": {
        "colab": {
          "base_uri": "https://localhost:8080/"
        },
        "id": "4zwi1H42OBRP",
        "outputId": "b8c2b5cd-f70c-4c02-b1b1-e6555d78459a"
      },
      "outputs": [
        {
          "output_type": "stream",
          "name": "stdout",
          "text": [
            "d$_{eff} = (0.049 +/- 0.009)\n",
            "xi = (0.02501 +/- -0.00604)\n",
            "yi = (0.00062 +/- 0.00147)\n"
          ]
        }
      ],
      "source": [
        "Va = 4.50\n",
        "dVa = 0.01\n",
        "Vp = 3.64\n",
        "dVp = 0.01\n",
        "C = popt[0]\n",
        "dC = perr[0]\n",
        "b = popt[1]\n",
        "db = perr[1]\n",
        "c = popt[2]\n",
        "dc = perr[2]\n",
        "\n",
        "deff1 = Vp/(4*C*Va)\n",
        "\n",
        "ddeff1 = deff1*(dVp/Vp+dVa/Va+dC/C)\n",
        "\n",
        "print('d$_{eff} = (%0.3f +/- %0.3f)' % (deff1,ddeff1))\n",
        "\n",
        "x_i1 = -b/(2.0*C)\n",
        "dx_i1 = x_i1*(dC/C+db/b)\n",
        "\n",
        "y_i1 = c - C*x_i1**2\n",
        "dy_i1 = dc + x_i1**2*dC + 2.0*x_i1*C*dx_i1\n",
        "\n",
        "print('xi = (%0.5f +/- %0.5f)' % (x_i1,dx_i1))\n",
        "print('yi = (%0.5f +/- %0.5f)' % (y_i1,dy_i1))"
      ]
    },
    {
      "cell_type": "code",
      "execution_count": null,
      "metadata": {
        "colab": {
          "base_uri": "https://localhost:8080/",
          "height": 635
        },
        "id": "xf9fpN7gOBRQ",
        "outputId": "b1e4fece-3471-4a4a-ba55-164157f90107"
      },
      "outputs": [
        {
          "output_type": "stream",
          "name": "stdout",
          "text": [
            "Beta: [ 2.97060268e+00 -3.42944987e-02 -4.16888686e-04]\n",
            "Beta Std Error: [0.13143331 0.0158317  0.00041847]\n",
            "Beta Covariance: [[ 1.47018894e-02 -1.73910622e-03  4.17752577e-05]\n",
            " [-1.73910622e-03  2.13312875e-04 -5.38040480e-06]\n",
            " [ 4.17752577e-05 -5.38040480e-06  1.49033045e-07]]\n",
            "Residual Variance: 1.17499971646214\n",
            "Inverse Condition #: 0.007576891541119966\n",
            "Reason(s) for Halting:\n",
            "  Sum of squares convergence\n",
            "\n",
            "Final Result: Y = (2.9706 +/- 0.1314)X^2 + (-0.0343 +/- 0.0158)X + (-0.000417 +/- 0.000418)\n"
          ]
        },
        {
          "output_type": "display_data",
          "data": {
            "image/png": "[encoded data removed]",
            "text/plain": [
              "<Figure size 640x480 with 1 Axes>"
            ]
          },
          "metadata": {
            "needs_background": "light"
          }
        }
      ],
      "source": [
        "xi = df2['x']\n",
        "yi = df2['y']\n",
        "sigmaxi = df2['dx']\n",
        "sigmayi = df2['dy']\n",
        "\n",
        "##############################\n",
        "\n",
        "##############################\n",
        "\n",
        "from scipy.odr import *\n",
        "\n",
        "def fitfunction(B, x):\n",
        "    '''Non-Linear function y = a*(x-c)^b'''\n",
        "    # B is a vector of the parameters.\n",
        "    # x is an array of the current x values.\n",
        "    # x is in the same format as the x passed to Data or RealData.\n",
        "    #\n",
        "    # Return an array in the same format as y passed to Data or RealData\n",
        "    return B[0]*x**2 + B[1]*x + B[2]\n",
        "\n",
        "linear = Model(fitfunction) # create a Model object based on the fitfuncion we have defined\n",
        "mydata = RealData(xi, yi, sx=sigmaxi, sy=sigmayi) # create a data object based on our data, include errors.\n",
        "myodr = ODR(mydata, linear, beta0=[2.11, 2.0,0.02]) # create a fitting object, based on the data, fit Model, and an intial set of parameters.\n",
        "myoutput = myodr.run()  # run the fitting process to get optimized parameters!\n",
        "\n",
        "myoutput.pprint() # print out the result of the fit\n",
        "\n",
        "# Now assign the important fit results to some more convenient variables.\n",
        "\n",
        "popt = myoutput.beta # the vector of optimized parameters\n",
        "pcov = myoutput.cov_beta # the covariance matrix\n",
        "perr = myoutput.sd_beta # the vector of ERRORS in the optimized parameters\n",
        "\n",
        "# The following lines generate upper and lower 99% \"Confidence Bands\" on the fit, for visualization\n",
        "# purposes.\n",
        "\n",
        "ps = np.random.multivariate_normal(popt,pcov,10000)\n",
        "xl = np.linspace(xi[0],xi[len(xi)-1],100)\n",
        "ysample=np.asarray([fitfunction(pl,xl) for pl in ps])\n",
        "ysample = np.nan_to_num(ysample)\n",
        "\n",
        "lower = np.percentile(ysample,16.0,axis=0)\n",
        "upper = np.percentile(ysample,84.0,axis=0)\n",
        "middle = (lower+upper)/2.0\n",
        "\n",
        "print()\n",
        "print (\"Final Result: Y = (%0.4f +/- %0.4f)X^2 + (%0.4f +/- %0.4f)X + (%0.6f +/- %0.6f)\" % (popt[0],perr[0],popt[1],perr[1],popt[2],perr[2]))\n",
        "\n",
        "plt.figure(figsize=(8, 6), dpi=80)\n",
        "plt.errorbar(xi, yi, xerr=sigmaxi, yerr=sigmayi, fmt='o', capsize=2, capthick=1)\n",
        "\n",
        "plt.plot(xl,middle)\n",
        "plt.plot(xl,lower)\n",
        "plt.plot(xl,upper)\n",
        "\n",
        "#########################\n",
        "\n",
        "plt.xlabel('Horizonatal Distance (meters)')\n",
        "plt.ylabel('Vertical Distance (meters)')\n",
        "plt.title('Determining the Electron Path (Accelerating Voltage = 3.5 kV)')\n",
        "plt.show()"
      ]
    },
    {
      "cell_type": "markdown",
      "source": [
        "## Analysis of Electron Path:   Accelerating Voltage = 3.5 kV\n",
        "\n",
        "First of all, we see that the fit is non-linear, as expected, and appears to be roughly quadratic.\n",
        "\n",
        "From the theory, we expect:\n",
        "\n",
        "$y = ax^2 + bx + c$\n",
        "\n",
        "where:\n",
        "\n",
        "$a = \\frac{V_p}{4 d_{eff} V_a} = C$\n",
        "\n",
        "$b = - 2 C x_i$\n",
        "\n",
        "$c = C x_i^2 + y_i$\n",
        "\n",
        "We see that the coefficient a = C is $(2.9706 \\pm 0.1314)$.\n",
        "\n",
        "The theory predicts that this coefficient should be equal to: $\\frac{V_p}{4 d_{eff} V_a}$.  Thus, we can calculate that:\n",
        "\n",
        "$d_{eff} = \\frac{V_p}{4 C V_a}$\n",
        "\n",
        "and \n",
        "\n",
        "$ \\delta(d_{eff}) = d_{eff} \\left( \\frac{\\delta(V_p)}{V_p} + \\frac{\\delta(V_a)}{V_a} + \\frac{\\delta(C)}{C} \\right) $"
      ],
      "metadata": {
        "id": "R45t7j62SLW5"
      }
    },
    {
      "cell_type": "code",
      "execution_count": null,
      "metadata": {
        "colab": {
          "base_uri": "https://localhost:8080/"
        },
        "id": "536xCY_TOBRR",
        "outputId": "4706f27e-0937-4af4-996f-dccfa2d56988"
      },
      "outputs": [
        {
          "output_type": "stream",
          "name": "stdout",
          "text": [
            "d$_{eff} = (0.088 +/- 0.002)\n",
            "xi = (0.00577 +/- -0.00241)\n",
            "yi = (-0.00052 +/- 0.00034)\n"
          ]
        }
      ],
      "source": [
        "Va = 3.50\n",
        "dVa = 0.01\n",
        "Vp = 3.64\n",
        "dVp = 0.01\n",
        "C = popt[0]\n",
        "dC = perr[0]\n",
        "b = popt[1]\n",
        "db = perr[1]\n",
        "c = popt[2]\n",
        "dc = perr[2]\n",
        "\n",
        "deff2 = Vp/(4*C*Va)\n",
        "\n",
        "ddeff2 = deff1*(dVp/Vp+dVa/Va+dC/C)\n",
        "\n",
        "print('d$_{eff} = (%0.3f +/- %0.3f)' % (deff2,ddeff2))\n",
        "\n",
        "x_i2 = -b/(2.0*C)\n",
        "dx_i2 = x_i2*(dC/C+db/b)\n",
        "\n",
        "y_i2 = c - C*x_i2**2\n",
        "dy_i2 = dc + x_i2**2*dC + 2.0*x_i2*C*dx_i2\n",
        "\n",
        "print('xi = (%0.5f +/- %0.5f)' % (x_i2,dx_i2))\n",
        "print('yi = (%0.5f +/- %0.5f)' % (y_i2,dy_i2))"
      ]
    },
    {
      "cell_type": "code",
      "execution_count": null,
      "metadata": {
        "colab": {
          "base_uri": "https://localhost:8080/",
          "height": 635
        },
        "id": "S4IR4jmDOBRS",
        "outputId": "2ea7940f-7487-4754-d24e-6c2f605d0d88"
      },
      "outputs": [
        {
          "output_type": "stream",
          "name": "stdout",
          "text": [
            "Beta: [ 4.33596198e+00 -4.68304966e-02 -6.75858097e-04]\n",
            "Beta Std Error: [0.49658515 0.03983081 0.00073817]\n",
            "Beta Covariance: [[ 2.30234574e-01 -1.82816907e-02  3.24854641e-04]\n",
            " [-1.82816907e-02  1.48122575e-03 -2.69550284e-05]\n",
            " [ 3.24854641e-04 -2.69550284e-05  5.08746207e-07]]\n",
            "Residual Variance: 1.0710676810024613\n",
            "Inverse Condition #: 0.0031696969016240303\n",
            "Reason(s) for Halting:\n",
            "  Sum of squares convergence\n",
            "\n",
            "Final Result: Y = (4.3360 +/- 0.4966)X^2 + (-0.0468 +/- 0.0398)X + (-0.000676 +/- 0.000738)\n"
          ]
        },
        {
          "output_type": "display_data",
          "data": {
            "image/png": "[encoded data removed]",
            "text/plain": [
              "<Figure size 640x480 with 1 Axes>"
            ]
          },
          "metadata": {
            "needs_background": "light"
          }
        }
      ],
      "source": [
        "xi = df3['x']\n",
        "yi = df3['y']\n",
        "sigmaxi = df3['dx']\n",
        "sigmayi = df3['dy']\n",
        "\n",
        "##############################\n",
        "\n",
        "from scipy.odr import *\n",
        "\n",
        "def fitfunction(B, x):\n",
        "    '''Non-Linear function y = a*(x-c)^b'''\n",
        "    # B is a vector of the parameters.\n",
        "    # x is an array of the current x values.\n",
        "    # x is in the same format as the x passed to Data or RealData.\n",
        "    #\n",
        "    # Return an array in the same format as y passed to Data or RealData\n",
        "    return B[0]*x**2 + B[1]*x + B[2]\n",
        "\n",
        "linear = Model(fitfunction) # create a Model object based on the fitfuncion we have defined\n",
        "mydata = RealData(xi, yi, sx=sigmaxi, sy=sigmayi) # create a data object based on our data, include errors.\n",
        "myodr = ODR(mydata, linear, beta0=[2.11, 2.0,0.02]) # create a fitting object, based on the data, fit Model, and an intial set of parameters.\n",
        "myoutput = myodr.run()  # run the fitting process to get optimized parameters!\n",
        "\n",
        "myoutput.pprint() # print out the result of the fit\n",
        "\n",
        "# Now assign the important fit results to some more convenient variables.\n",
        "\n",
        "popt = myoutput.beta # the vector of optimized parameters\n",
        "pcov = myoutput.cov_beta # the covariance matrix\n",
        "perr = myoutput.sd_beta # the vector of ERRORS in the optimized parameters\n",
        "\n",
        "# The following lines generate upper and lower 99% \"Confidence Bands\" on the fit, for visualization\n",
        "# purposes.\n",
        "\n",
        "ps = np.random.multivariate_normal(popt,pcov,10000)\n",
        "xl = np.linspace(xi[0],xi[len(xi)-1],100)\n",
        "ysample=np.asarray([fitfunction(pl,xl) for pl in ps])\n",
        "ysample = np.nan_to_num(ysample)\n",
        "\n",
        "lower = np.percentile(ysample,16.0,axis=0)\n",
        "upper = np.percentile(ysample,84.0,axis=0)\n",
        "middle = (lower+upper)/2.0\n",
        "\n",
        "print()\n",
        "print (\"Final Result: Y = (%0.4f +/- %0.4f)X^2 + (%0.4f +/- %0.4f)X + (%0.6f +/- %0.6f)\" % (popt[0],perr[0],popt[1],perr[1],popt[2],perr[2]))\n",
        "\n",
        "plt.figure(figsize=(8, 6), dpi=80)\n",
        "plt.errorbar(xi, yi, xerr=sigmaxi, yerr=sigmayi, fmt='o', capsize=2, capthick=1)\n",
        "\n",
        "plt.plot(xl,middle)\n",
        "plt.plot(xl,lower)\n",
        "plt.plot(xl,upper)\n",
        "\n",
        "#########################\n",
        "\n",
        "plt.xlabel('Horizonatal Distance (meters)')\n",
        "plt.ylabel('Vertical Distance (meters)')\n",
        "plt.title('Determining the Electron Path (Accelerating Voltage = 2.5 kV)')\n",
        "plt.show()"
      ]
    },
    {
      "cell_type": "markdown",
      "source": [
        "## Analysis of Electron Path:   Accelerating Voltage = 2.5 kV\n",
        "\n",
        "First of all, we see that the fit is non-linear, as expected, and appears to be roughly quadratic.\n",
        "\n",
        "From the theory, we expect:\n",
        "\n",
        "$y = ax^2 + bx + c$\n",
        "\n",
        "where:\n",
        "\n",
        "$a = \\frac{V_p}{4 d_{eff} V_a} = C$\n",
        "\n",
        "$b = - 2 C x_i$\n",
        "\n",
        "$c = C x_i^2 + y_i$\n",
        "\n",
        "We see that the coefficient a = C is $(4.3360 \\pm 0.4966)$.\n",
        "\n",
        "The theory predicts that this coefficient should be equal to: $\\frac{V_p}{4 d_{eff} V_a}$.  Thus, we can calculate that:\n",
        "\n",
        "$d_{eff} = \\frac{V_p}{4 C V_a}$\n",
        "\n",
        "and \n",
        "\n",
        "$ \\delta(d_{eff}) = d_{eff} \\left( \\frac{\\delta(V_p)}{V_p} + \\frac{\\delta(V_a)}{V_a} + \\frac{\\delta(C)}{C} \\right) $"
      ],
      "metadata": {
        "id": "SLWfWwAYSWNB"
      }
    },
    {
      "cell_type": "code",
      "execution_count": null,
      "metadata": {
        "colab": {
          "base_uri": "https://localhost:8080/"
        },
        "id": "2STr8XqXOBRS",
        "outputId": "0b638c6c-d175-4f89-c53d-978d1391ac81"
      },
      "outputs": [
        {
          "output_type": "stream",
          "name": "stdout",
          "text": [
            "d$_{eff} = (0.084 +/- 0.006)\n",
            "xi = (0.00540 +/- -0.00397)\n",
            "yi = (-0.00080 +/- 0.00057)\n"
          ]
        }
      ],
      "source": [
        "Va = 2.50\n",
        "dVa = 0.01\n",
        "Vp = 3.64\n",
        "dVp = 0.01\n",
        "C = popt[0]\n",
        "dC = perr[0]\n",
        "b = popt[1]\n",
        "db = perr[1]\n",
        "c = popt[2]\n",
        "dc = perr[2]\n",
        "\n",
        "deff3 = Vp/(4*C*Va)\n",
        "\n",
        "ddeff3 = deff1*(dVp/Vp+dVa/Va+dC/C)\n",
        "\n",
        "print('d$_{eff} = (%0.3f +/- %0.3f)' % (deff3,ddeff3))\n",
        "\n",
        "x_i3 = -b/(2.0*C)\n",
        "dx_i3 = x_i3*(dC/C+db/b)\n",
        "\n",
        "y_i3 = c - C*x_i3**2\n",
        "dy_i3 = dc + x_i3**2*dC + 2.0*x_i3*C*dx_i3\n",
        "\n",
        "print('xi = (%0.5f +/- %0.5f)' % (x_i3,dx_i3))\n",
        "print('yi = (%0.5f +/- %0.5f)' % (y_i3,dy_i3))"
      ]
    },
    {
      "cell_type": "code",
      "execution_count": null,
      "metadata": {
        "colab": {
          "base_uri": "https://localhost:8080/"
        },
        "id": "a_jlOGhzOBRT",
        "outputId": "7ba0be41-9a82-47c4-fd7a-0e195074a973"
      },
      "outputs": [
        {
          "output_type": "stream",
          "name": "stdout",
          "text": [
            "Va = 4.50kV: d$_{eff} = (0.049 +/- 0.009)\n",
            "Va = 3.50kV: d$_{eff} = (0.088 +/- 0.002)\n",
            "Va = 2.50kV: d$_{eff} = (0.084 +/- 0.006)\n"
          ]
        }
      ],
      "source": [
        "# Summary of Part I\n",
        "\n",
        "print('Va = 4.50kV: d$_{eff} = (%0.3f +/- %0.3f)' % (deff1,ddeff1))\n",
        "print('Va = 3.50kV: d$_{eff} = (%0.3f +/- %0.3f)' % (deff2,ddeff2))\n",
        "print('Va = 2.50kV: d$_{eff} = (%0.3f +/- %0.3f)' % (deff3,ddeff3))"
      ]
    },
    {
      "cell_type": "markdown",
      "metadata": {
        "id": "LEyOcftYOBRU"
      },
      "source": [
        "# Determining the Effective Plate Separation"
      ]
    },
    {
      "cell_type": "code",
      "execution_count": null,
      "metadata": {
        "colab": {
          "base_uri": "https://localhost:8080/"
        },
        "id": "jJcfUFBHOBRU",
        "outputId": "679e6de7-1aad-4388-f156-a10428ce91a4"
      },
      "outputs": [
        {
          "output_type": "stream",
          "name": "stdout",
          "text": [
            "Plate Separation Data:\n",
            "  Vp  dVp  Va  dVa\n",
            "1.77 0.01 2.6 0.01\n",
            "2.07 0.01 2.8 0.01\n",
            "2.19 0.01 3.0 0.01\n",
            "2.33 0.01 3.2 0.01\n",
            "2.47 0.01 3.4 0.01\n",
            "2.63 0.01 3.6 0.01\n",
            "2.71 0.01 3.8 0.01\n",
            "2.86 0.01 4.0 0.01\n",
            "2.98 0.01 4.2 0.01\n",
            "3.08 0.01 4.4 0.01\n",
            "3.26 0.01 4.6 0.01\n",
            "3.44 0.01 4.8 0.01\n",
            "3.53 0.01 5.0 0.01\n"
          ]
        }
      ],
      "source": [
        "# Create a Pandas DataFrame with data for part 2\n",
        "\n",
        "# The data elements are [Vp, dVp, Va, dVa]\n",
        "\n",
        "data4 = [[1.77,0.01,2.600,0.01], [2.07,0.01,2.80,0.01], [2.19,0.01,3.00,0.01],\n",
        "         [2.33,0.01,3.20,0.01], [2.47,0.01,3.40,0.01], [2.63,0.01,3.60,0.01],\n",
        "         [2.71,0.01,3.80,0.01], [2.86,0.01,4.00,0.01], [2.98,0.01,4.20,0.01],\n",
        "         [3.08,0.01,4.400,0.01], [3.26,0.01,4.60,0.01], [3.44,0.01,4.80,0.01],\n",
        "         [3.53,0.01,5.00,0.01]]\n",
        "# create dataframe\n",
        "df4 = pd.DataFrame(data4, columns = ['Vp', 'dVp','Va','dVa'])\n",
        "\n",
        "print('Plate Separation Data:')\n",
        "print(df4.to_string(index=False))"
      ]
    },
    {
      "cell_type": "code",
      "execution_count": null,
      "metadata": {
        "colab": {
          "base_uri": "https://localhost:8080/",
          "height": 618
        },
        "id": "FzcSJjUsOBRV",
        "outputId": "113ef16a-749b-4212-f764-06940bc64e81"
      },
      "outputs": [
        {
          "output_type": "stream",
          "name": "stdout",
          "text": [
            "Beta: [0.69364321 0.08107893]\n",
            "Beta Std Error: [0.01768738 0.06850217]\n",
            "Beta Covariance: [[ 2.03606230e-05 -7.73705705e-05]\n",
            " [-7.73705705e-05  3.05402393e-04]]\n",
            "Residual Variance: 15.36512789930507\n",
            "Inverse Condition #: 0.04130863344483536\n",
            "Reason(s) for Halting:\n",
            "  Sum of squares convergence\n",
            "\n",
            "Final Result: Y = (0.693643209 +/- 0.017687385)X + (0.081078932 +/- 0.068502167)\n"
          ]
        },
        {
          "output_type": "display_data",
          "data": {
            "image/png": "[encoded data removed]",
            "text/plain": [
              "<Figure size 640x480 with 1 Axes>"
            ]
          },
          "metadata": {
            "needs_background": "light"
          }
        }
      ],
      "source": [
        "xi = df4['Va']\n",
        "yi = df4['Vp']\n",
        "sigmaxi = df4['dVa']\n",
        "sigmayi = df4['dVp']\n",
        "\n",
        "##############################\n",
        "\n",
        "from scipy.odr import *\n",
        "\n",
        "def fitfunction(B, x):\n",
        "    '''Linear function y = a*x+b'''\n",
        "    # B is a vector of the parameters.\n",
        "    # x is an array of the current x values.\n",
        "    # x is in the same format as the x passed to Data or RealData.\n",
        "    #\n",
        "    # Return an array in the same format as y passed to Data or RealData.\n",
        "    return B[0]*x+B[1]\n",
        "\n",
        "linear = Model(fitfunction) # create a Model object based on the fitfuncion we have defined\n",
        "mydata = RealData(xi, yi, sx=sigmaxi, sy=sigmayi) # create a data object based on our data, include errors.\n",
        "myodr = ODR(mydata, linear, beta0=[1., 2.]) # create a fitting object, based on the data, fit Model, and an intial set of parameters.\n",
        "myoutput = myodr.run()  # run the fitting process to get optimized parameters!\n",
        "\n",
        "myoutput.pprint() # print out the result of the fit\n",
        "\n",
        "# Now assign the important fit results to some more convenient variables.\n",
        "\n",
        "popt = myoutput.beta # the vector of optimized parameters\n",
        "pcov = myoutput.cov_beta # the covariance matrix\n",
        "perr = myoutput.sd_beta # the vector of ERRORS in the optimized parameters\n",
        "\n",
        "# The following lines generate upper and lower 99% \"Confidence Bands\" on the fit, for visualization\n",
        "# purposes.\n",
        "\n",
        "ps = np.random.multivariate_normal(popt,pcov,10000)\n",
        "xl = np.linspace(xi[0],xi[len(xi)-1],100)\n",
        "ysample=np.asarray([fitfunction(pl,xl) for pl in ps])\n",
        "\n",
        "lower = np.percentile(ysample,0.5,axis=0)\n",
        "upper = np.percentile(ysample,99.5,axis=0)\n",
        "middle = (lower+upper)/2.0\n",
        "\n",
        "print()\n",
        "print (\"Final Result: Y = (%0.9f +/- %0.9f)X + (%0.9f +/- %0.9f)\" % (popt[0],perr[0],popt[1],perr[1]))\n",
        "\n",
        "plt.figure(figsize=(8, 6), dpi=80)\n",
        "\n",
        "plt.errorbar(xi, yi, xerr=sigmaxi, yerr=sigmayi, fmt='o', capsize=2, capthick=1)\n",
        "\n",
        "plt.plot(xl,middle)\n",
        "plt.plot(xl,lower)\n",
        "plt.plot(xl,upper)\n",
        "\n",
        "#########################\n",
        "\n",
        "plt.xlabel('Accelerating Voltage (kV)')\n",
        "plt.ylabel('Plate Voltage (kV)')\n",
        "plt.title('Determining the Effective Plate Separation')\n",
        "plt.show()"
      ]
    },
    {
      "cell_type": "markdown",
      "metadata": {
        "id": "-adOW16kOBRV"
      },
      "source": [
        "## Analysis of Electron Path:   Accelerating Voltage = 4.5 kV\n",
        "\n",
        "First of all, we see that the fit is linear, as expected.\n",
        "\n",
        "Second, we see that the result for the slope is $(0.694 \\pm 0.018)$.  \n",
        "\n",
        "Third, we see that the y-intercept of the fit is $(0.081 \\pm 0.069)$.  This is not\n",
        "consistent with zero, as expected.\n",
        "\n",
        "The theory predicts that this slope should be equal to: $\\frac{4 \\Delta y d_{eff}}{(\\Delta x)^2}$.  Thus, we can calculate that:\n",
        "\n",
        "$d_{eff} = slope \\left( \\frac{(\\Delta x)^2}{4 \\Delta y} \\right)$\n",
        "\n",
        "and \n",
        "\n",
        "$ \\delta(d_{eff}) = d_{eff} \\left( 2 \\frac{\\delta(\\Delta x)}{\\Delta x} + \\frac{\\delta(\\Delta y)}{\\Delta y} + \\frac{\\delta(slope)}{slope} \\right) $"
      ]
    },
    {
      "cell_type": "code",
      "execution_count": null,
      "metadata": {
        "id": "qoM_nTyaOBRW"
      },
      "outputs": [],
      "source": [
        "slope = popt[0]\n",
        "dslope = perr[0]\n",
        "\n",
        "deltax = 0.100\n",
        "ddeltax = 0.001\n",
        "deltay = 0.020\n",
        "ddeltay = 0.001\n",
        "\n",
        "deff4 = slope*(deltax**2)/(4.0*deltay)\n",
        "ddeff4 = deff4*(2*ddeltax/deltax + ddeltay/deltay + dslope/slope)\n",
        "\n"
      ]
    },
    {
      "cell_type": "code",
      "execution_count": null,
      "metadata": {
        "colab": {
          "base_uri": "https://localhost:8080/"
        },
        "id": "RVE1mgfiOBRW",
        "outputId": "8ea3044a-44a2-4442-c925-e86e3a04c48d"
      },
      "outputs": [
        {
          "output_type": "stream",
          "name": "stdout",
          "text": [
            "Part II: Effective distance = (0.087 +/- 0.008) m\n",
            "\n",
            "Part I:\n",
            "Va = 4.50kV: d_eff = (0.049 +/- 0.009) m\n",
            "Va = 3.50kV: d_eff = (0.088 +/- 0.002) m\n",
            "Va = 2.50kV: d_eff = (0.084 +/- 0.006) m\n"
          ]
        }
      ],
      "source": [
        "# Final Summary\n",
        "print (\"Part II: Effective distance = (%0.3f +/- %0.3f) m\" % (deff4,ddeff4))\n",
        "\n",
        "print()\n",
        "print(\"Part I:\")\n",
        "print('Va = 4.50kV: d_eff = (%0.3f +/- %0.3f) m' % (deff1,ddeff1))\n",
        "print('Va = 3.50kV: d_eff = (%0.3f +/- %0.3f) m' % (deff2,ddeff2))\n",
        "print('Va = 2.50kV: d_eff = (%0.3f +/- %0.3f) m' % (deff3,ddeff3))"
      ]
    },
    {
      "cell_type": "code",
      "execution_count": null,
      "metadata": {
        "colab": {
          "base_uri": "https://localhost:8080/",
          "height": 461
        },
        "id": "pNUWFRWcOBRW",
        "outputId": "853987d2-672e-4ffa-c609-6f7d5bc30d26"
      },
      "outputs": [
        {
          "output_type": "stream",
          "name": "stdout",
          "text": [
            "Weighted Average = 0.0847 +/- 0.0021 m\n"
          ]
        },
        {
          "output_type": "display_data",
          "data": {
            "image/png": "[encoded data removed]",
            "text/plain": [
              "<Figure size 640x480 with 1 Axes>"
            ]
          },
          "metadata": {
            "needs_background": "light"
          }
        }
      ],
      "source": [
        "x1 = ['IA','IB','IC','II']\n",
        "y1 = np.array([deff1,deff2,deff3,deff4])\n",
        "dy1 = np.array([ddeff1,ddeff2,ddeff3,ddeff4])\n",
        "\n",
        "# Calculate the weighted average of the effective distance values.\n",
        "def w_avg(x, dx):\n",
        "    d = x\n",
        "    w = 1.0/dx**2\n",
        "    return (d * w).sum()/w.sum(), np.sqrt(1/w.sum())\n",
        "\n",
        "average, daverage = w_avg(y1,dy1)\n",
        "print ('Weighted Average = %0.4f +/- %0.4f m' % (average,daverage))\n",
        "ylow = average-daverage\n",
        "yhigh = average+daverage\n",
        "y2 = [ylow,ylow,ylow,ylow]\n",
        "y3 = [yhigh,yhigh,yhigh,yhigh]\n",
        "\n",
        "\n",
        "plt.figure(figsize=(8, 6), dpi=80)\n",
        "\n",
        "plt.errorbar(x1, y1, yerr=dy1, fmt='o', capsize=2, capthick=1)\n",
        "plt.plot(x1,y2)\n",
        "plt.plot(x1,y3)\n",
        "\n",
        "#########################\n",
        "\n",
        "plt.xlabel('Experiment Part')\n",
        "plt.ylabel('Effective Plate Separation (m)')\n",
        "plt.title('Comparison of Parts I and II')\n",
        "plt.ylim(0,0.12)\n",
        "plt.show()"
      ]
    },
    {
      "cell_type": "code",
      "execution_count": null,
      "metadata": {
        "colab": {
          "base_uri": "https://localhost:8080/",
          "height": 444
        },
        "id": "CjMCtgpcOBRX",
        "outputId": "049703f7-66db-476d-87a6-39e17d37e80a"
      },
      "outputs": [
        {
          "output_type": "display_data",
          "data": {
            "image/png": "[encoded data removed]",
            "text/plain": [
              "<Figure size 640x480 with 1 Axes>"
            ]
          },
          "metadata": {
            "needs_background": "light"
          }
        }
      ],
      "source": [
        "x1 = ['IA','IB','IC']\n",
        "y1 = [x_i1,x_i2,x_i3]\n",
        "dy1 = [dx_i1,dx_i2,dx_i3]\n",
        "y2 = [y_i1,y_i2,y_i3]\n",
        "dy2 = [dy_i1,dy_i2,dy_i3]\n",
        "\n",
        "plt.figure(figsize=(8, 6), dpi=80)\n",
        "\n",
        "plt.errorbar(x1, y1, yerr=dy1, fmt='o', capsize=2, capthick=1)\n",
        "plt.errorbar(x1, y2, yerr=dy2, fmt='o', capsize=2, capthick=1)\n",
        "#########################\n",
        "\n",
        "plt.xlabel('Experiment Part')\n",
        "plt.ylabel('Initial X/Y Position (m)')\n",
        "plt.title('Comparison of Part I Extractions')\n",
        "plt.ylim(-0.01,0.02)\n",
        "plt.show()"
      ]
    },
    {
      "cell_type": "code",
      "execution_count": null,
      "metadata": {
        "id": "SXC7XuuYOBRX"
      },
      "outputs": [],
      "source": [
        ""
      ]
    }
  ],
  "metadata": {
    "kernelspec": {
      "display_name": "Python 3",
      "language": "python",
      "name": "python3"
    },
    "language_info": {
      "codemirror_mode": {
        "name": "ipython",
        "version": 3
      },
      "file_extension": ".py",
      "mimetype": "text/x-python",
      "name": "python",
      "nbconvert_exporter": "python",
      "pygments_lexer": "ipython3",
      "version": "3.6.8"
    },
    "latex_envs": {
      "LaTeX_envs_menu_present": true,
      "autoclose": false,
      "autocomplete": true,
      "bibliofile": "biblio.bib",
      "cite_by": "apalike",
      "current_citInitial": 1,
      "eqLabelWithNumbers": true,
      "eqNumInitial": 1,
      "hotkeys": {
        "equation": "Ctrl-E",
        "itemize": "Ctrl-I"
      },
      "labels_anchors": false,
      "latex_user_defs": false,
      "report_style_numbering": false,
      "user_envs_cfg": false
    },
    "colab": {
      "name": "Copy of Electric_Force_Analysis_Quadratic.ipynb",
      "provenance": [],
      "include_colab_link": true
    }
  },
  "nbformat": 4,
  "nbformat_minor": 0
}